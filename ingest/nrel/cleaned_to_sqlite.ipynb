{
 "cells": [
  {
   "cell_type": "markdown",
   "id": "030ccefa",
   "metadata": {},
   "source": [
    "# Cleaned To Sqlite\n",
    "\n",
    "Notebook to convert the cleaned datasets (just a collection of csv files) into an easily queryable sqlite database"
   ]
  },
  {
   "cell_type": "code",
   "execution_count": 1,
   "id": "bb0a3b69",
   "metadata": {},
   "outputs": [],
   "source": [
    "import pandas as pd\n",
    "import numpy as np\n",
    "import sqlite3\n",
    "import glob \n",
    "import os"
   ]
  },
  {
   "cell_type": "code",
   "execution_count": 3,
   "id": "ac73b21a",
   "metadata": {},
   "outputs": [],
   "source": [
    "data_folder = \"data/site_data_cleaned\"\n",
    "db_file = \"data/nrel_cleaned.sqlite\"\n",
    "table_name = \"samples\""
   ]
  },
  {
   "cell_type": "code",
   "execution_count": 4,
   "id": "1dad21c8",
   "metadata": {},
   "outputs": [],
   "source": [
    "conn = sqlite3.connect(db_file)\n",
    "cursor = conn.cursor()"
   ]
  },
  {
   "cell_type": "code",
   "execution_count": 5,
   "id": "55466a1b",
   "metadata": {},
   "outputs": [],
   "source": [
    "csv_files = glob.glob(os.path.join(data_folder, '*.csv'))"
   ]
  },
  {
   "cell_type": "code",
   "execution_count": 6,
   "id": "93b2c8d2",
   "metadata": {},
   "outputs": [
    {
     "data": {
      "text/plain": [
       "['data/site_data_cleaned/UAT.csv',\n",
       " 'data/site_data_cleaned/STAC.csv',\n",
       " 'data/site_data_cleaned/ULL.csv',\n",
       " 'data/site_data_cleaned/NWTC.csv',\n",
       " 'data/site_data_cleaned/IRRSP.csv',\n",
       " 'data/site_data_cleaned/NELHA.csv',\n",
       " 'data/site_data_cleaned/BMS.csv']"
      ]
     },
     "execution_count": 6,
     "metadata": {},
     "output_type": "execute_result"
    }
   ],
   "source": [
    "csv_files"
   ]
  },
  {
   "cell_type": "code",
   "execution_count": 7,
   "id": "fbb9f9de",
   "metadata": {},
   "outputs": [],
   "source": [
    "if csv_files:\n",
    "    sample_df = pd.read_csv(csv_files[0])\n",
    "    sample_df.to_sql(table_name, conn, if_exists='replace', index=False)\n",
    "\n",
    "    # Append remaining CSVs\n",
    "    for csv_file in csv_files[1:]:\n",
    "        df = pd.read_csv(csv_file)\n",
    "        df.to_sql(table_name, conn, if_exists='append', index=False)"
   ]
  },
  {
   "cell_type": "code",
   "execution_count": 8,
   "id": "4aa420b4",
   "metadata": {},
   "outputs": [],
   "source": [
    "conn.commit()\n",
    "conn.close()"
   ]
  },
  {
   "cell_type": "code",
   "execution_count": 9,
   "id": "952082b1",
   "metadata": {},
   "outputs": [
    {
     "name": "stdout",
     "output_type": "stream",
     "text": [
      "Loaded 7 CSV files into 'samples' in data/nrel_cleaned.sqlite\n"
     ]
    }
   ],
   "source": [
    "print(f\"Loaded {len(csv_files)} CSV files into '{table_name}' in {db_file}\")"
   ]
  }
 ],
 "metadata": {
  "kernelspec": {
   "display_name": ".venv",
   "language": "python",
   "name": "python3"
  },
  "language_info": {
   "codemirror_mode": {
    "name": "ipython",
    "version": 3
   },
   "file_extension": ".py",
   "mimetype": "text/x-python",
   "name": "python",
   "nbconvert_exporter": "python",
   "pygments_lexer": "ipython3",
   "version": "3.11.2"
  }
 },
 "nbformat": 4,
 "nbformat_minor": 5
}
